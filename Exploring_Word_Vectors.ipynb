{
  "nbformat": 4,
  "nbformat_minor": 0,
  "metadata": {
    "colab": {
      "provenance": [],
      "gpuType": "T4",
      "authorship_tag": "ABX9TyN6gABr79+pwy9QG1AJZJVw",
      "include_colab_link": true
    },
    "kernelspec": {
      "name": "python3",
      "display_name": "Python 3"
    },
    "language_info": {
      "name": "python"
    },
    "accelerator": "GPU"
  },
  "cells": [
    {
      "cell_type": "markdown",
      "metadata": {
        "id": "view-in-github",
        "colab_type": "text"
      },
      "source": [
        "<a href=\"https://colab.research.google.com/github/Ryanike1022/NLP-with-DL/blob/main/Exploring_Word_Vectors.ipynb\" target=\"_parent\"><img src=\"https://colab.research.google.com/assets/colab-badge.svg\" alt=\"Open In Colab\"/></a>"
      ]
    },
    {
      "cell_type": "markdown",
      "source": [
        "In this notebook, we're gonna **Explore Word Vectors**"
      ],
      "metadata": {
        "id": "T8Lo5qxCUiET"
      }
    },
    {
      "cell_type": "code",
      "source": [],
      "metadata": {
        "id": "VcOBTwEQXEjW"
      },
      "execution_count": null,
      "outputs": []
    }
  ]
}